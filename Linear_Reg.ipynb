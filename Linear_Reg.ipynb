{
 "cells": [
  {
   "cell_type": "code",
   "execution_count": 10,
   "metadata": {
    "collapsed": true
   },
   "outputs": [],
   "source": [
    "# 1st part(without csv file)\n",
    "import numpy as np\n",
    "import matplotlib.pyplot as plt\n",
    "#import pandas as pd"
   ]
  },
  {
   "cell_type": "code",
   "execution_count": 28,
   "metadata": {
    "collapsed": true
   },
   "outputs": [],
   "source": [
    "xx = np.array([6, 8, 12, 14,18])\n",
    "yy = np.array([350, 775,1150,1395,1675])\n",
    "#items=pd.read_csv('train.csv').dropna()\n",
    " \n",
    "# xx=items['x']\n",
    "# yy=items['y']\n",
    " \n",
    "x=np.array(xx)\n",
    "y=np.array(yy)"
   ]
  },
  {
   "cell_type": "code",
   "execution_count": 29,
   "metadata": {
    "collapsed": true
   },
   "outputs": [],
   "source": [
    "x1=x.mean()\n",
    "y1=y.mean()"
   ]
  },
  {
   "cell_type": "code",
   "execution_count": 30,
   "metadata": {
    "collapsed": true
   },
   "outputs": [],
   "source": [
    "xy=x*y\n",
    " \n",
    "xy1=np.array(xy)\n",
    "xy2=xy1.mean()"
   ]
  },
  {
   "cell_type": "code",
   "execution_count": 31,
   "metadata": {
    "collapsed": true
   },
   "outputs": [],
   "source": [
    "x1_2=x1**2\n",
    " \n",
    "x_2=(x**2)\n",
    "x_2_mean=x_2.mean()"
   ]
  },
  {
   "cell_type": "code",
   "execution_count": 32,
   "metadata": {
    "collapsed": false
   },
   "outputs": [
    {
     "name": "stdout",
     "output_type": "stream",
     "text": [
      "107.21491228070172\n"
     ]
    }
   ],
   "source": [
    "m=((x1 * y1 ) - xy2) / (x1_2 - x_2_mean)\n",
    "print(m)"
   ]
  },
  {
   "cell_type": "code",
   "execution_count": 33,
   "metadata": {
    "collapsed": false
   },
   "outputs": [
    {
     "name": "stdout",
     "output_type": "stream",
     "text": [
      "-174.69298245614004\n"
     ]
    }
   ],
   "source": [
    "c = y1 -( m* x1)\n",
    "print(c)"
   ]
  },
  {
   "cell_type": "code",
   "execution_count": 34,
   "metadata": {
    "collapsed": true
   },
   "outputs": [],
   "source": [
    "y_pred = []\n",
    "for i in range(5):\n",
    "    y_pred.append(m*x[i]+c)\n",
    "    \n",
    "Y = np.array(y_pred)\n",
    "#l=len(x)\n",
    "# y_pred = []\n",
    "# for i in range(len(x)):\n",
    "#     y_pred.append(m*x[i]+c)\n",
    "    \n",
    "# Y = np.array(y_pred)\n",
    " \n"
   ]
  },
  {
   "cell_type": "code",
   "execution_count": 35,
   "metadata": {
    "collapsed": false
   },
   "outputs": [
    {
     "data": {
      "image/png": "[encoded data removed]",
      "text/plain": [
       "<matplotlib.figure.Figure at 0x28fbbacccf8>"
      ]
     },
     "metadata": {},
     "output_type": "display_data"
    }
   ],
   "source": [
    "plt.plot(x, Y)\n",
    "plt.scatter(x,y, color = \"r\")\n",
    "plt.show()"
   ]
  },
  {
   "cell_type": "code",
   "execution_count": null,
   "metadata": {
    "collapsed": true
   },
   "outputs": [],
   "source": []
  }
 ],
 "metadata": {
  "kernelspec": {
   "display_name": "Python 3",
   "language": "python",
   "name": "python3"
  },
  "language_info": {
   "codemirror_mode": {
    "name": "ipython",
    "version": 3
   },
   "file_extension": ".py",
   "mimetype": "text/x-python",
   "name": "python",
   "nbconvert_exporter": "python",
   "pygments_lexer": "ipython3",
   "version": "3.6.0"
  }
 },
 "nbformat": 4,
 "nbformat_minor": 2
}

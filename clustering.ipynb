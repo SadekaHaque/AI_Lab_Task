{
 "cells": [
  {
   "cell_type": "code",
   "execution_count": 38,
   "metadata": {
    "collapsed": true
   },
   "outputs": [],
   "source": [
    "import numpy as np\n",
    "import matplotlib.pyplot \n",
    "import pylab\n"
   ]
  },
  {
   "cell_type": "code",
   "execution_count": 39,
   "metadata": {
    "collapsed": true
   },
   "outputs": [],
   "source": [
    "x=np.array([2.0,2.0,5.0,6.0,5.0,2.5])\n",
    "y=np.array([4.0,3.0,2.0,2.0,2.5,3.5])\n"
   ]
  },
  {
   "cell_type": "code",
   "execution_count": 40,
   "metadata": {
    "collapsed": false
   },
   "outputs": [
    {
     "data": {
      "image/png": "[encoded data removed]",
      "text/plain": [
       "<matplotlib.figure.Figure at 0x1e290c5a0f0>"
      ]
     },
     "metadata": {},
     "output_type": "display_data"
    }
   ],
   "source": [
    "matplotlib.pyplot.scatter(x,y)\n",
    "\n",
    "matplotlib.pyplot.show()"
   ]
  },
  {
   "cell_type": "code",
   "execution_count": 41,
   "metadata": {
    "collapsed": true
   },
   "outputs": [],
   "source": [
    "c1=np.array([2.0,4.0])\n",
    "c2=np.array([5.0,2.0])\n",
    " \n",
    "c1_x=[]\n",
    "c1_y=[]\n",
    " \n",
    "c2_x=[]\n",
    "c2_y=[]"
   ]
  },
  {
   "cell_type": "code",
   "execution_count": 6,
   "metadata": {
    "collapsed": true
   },
   "outputs": [],
   "source": [
    "def dis(x1,y1,x2,y2):\n",
    "    a=(((x1-x2)**2+(y1-y2)**2))**.5\n",
    "    return a"
   ]
  },
  {
   "cell_type": "code",
   "execution_count": 43,
   "metadata": {
    "collapsed": false
   },
   "outputs": [
    {
     "name": "stdout",
     "output_type": "stream",
     "text": [
      "2.0   4.0\n",
      "5.0   2.0\n",
      "\n",
      "2.0   3.5\n",
      "5.0   2.0\n",
      "\n",
      "2.0   3.5\n",
      "5.0   2.0\n",
      "\n",
      "2.0   3.5\n",
      "5.5   2.0\n",
      "\n",
      "2.0   3.5\n",
      "5.333333333333333   2.1666666666666665\n",
      "\n",
      "2.1666666666666665   3.5\n",
      "5.333333333333333   2.1666666666666665\n",
      "\n"
     ]
    }
   ],
   "source": [
    "j = int(len(x))\n",
    " \n",
    "for i in range(j):\n",
    "    a=dis(c1[0],c1[1],x[i],y[i])\n",
    "    b=dis(c2[0],c2[1],x[i],y[i])\n",
    " \n",
    "    if(a<b):\n",
    "        c1_x.append(x[i])\n",
    "        c1_y.append(y[i])\n",
    "   \n",
    "        c1x=np.array(c1_x)\n",
    "        c1y=np.array(c1_y)\n",
    "       \n",
    "        c1[0]=(c1x.sum())/(len(c1x))\n",
    "        c1[1]=(c1y.sum())/(len(c1y))\n",
    "   \n",
    "     \n",
    "       \n",
    "    else :\n",
    "        c2_x.append(x[i])\n",
    "        c2_y.append(y[i])\n",
    "   \n",
    "        c2x=np.array(c2_x)\n",
    "        c2y=np.array(c2_y)\n",
    "       \n",
    "        c2[0]=(c2x.sum())/(len(c2x))\n",
    "        c2[1]=(c2y.sum())/(len(c2y))\n",
    "       \n",
    "    print(c1[0],\" \",c1[1])\n",
    "    print(c2[0],\" \",c2[1])\n",
    "    print()    "
   ]
  },
  {
   "cell_type": "code",
   "execution_count": 44,
   "metadata": {
    "collapsed": false
   },
   "outputs": [],
   "source": [
    "xx.append(c1[0])\n",
    "xx.append(c2[0])\n",
    " \n",
    "yy.append(c1[1])\n",
    "yy.append(c2[1])\n",
    " \n",
    "c_x=[c1[0],c2[0]]\n",
    "c_y=[c1[1],c2[1]]\n",
    " \n",
    "f_x=np.array(c_x)\n",
    "f_y=np.array(c_y)\n",
    " "
   ]
  },
  {
   "cell_type": "code",
   "execution_count": 45,
   "metadata": {
    "collapsed": false
   },
   "outputs": [
    {
     "data": {
      "image/png": "[encoded data removed]",
      "text/plain": [
       "<matplotlib.figure.Figure at 0x1e290c6e0b8>"
      ]
     },
     "metadata": {},
     "output_type": "display_data"
    }
   ],
   "source": [
    "matplotlib.pyplot.scatter(x,y,c='Black',s=10)\n",
    "matplotlib.pyplot.scatter(f_x,f_y,c='b',s=10)\n",
    "\n",
    "\n",
    "matplotlib.pyplot.show()"
   ]
  },
  {
   "cell_type": "code",
   "execution_count": 1,
   "metadata": {
    "collapsed": true
   },
   "outputs": [],
   "source": []
  },
  {
   "cell_type": "code",
   "execution_count": 3,
   "metadata": {
    "collapsed": true
   },
   "outputs": [],
   "source": []
  },
  {
   "cell_type": "code",
   "execution_count": null,
   "metadata": {
    "collapsed": true
   },
   "outputs": [],
   "source": []
  }
 ],
 "metadata": {
  "kernelspec": {
   "display_name": "Python 3",
   "language": "python",
   "name": "python3"
  },
  "language_info": {
   "codemirror_mode": {
    "name": "ipython",
    "version": 3
   },
   "file_extension": ".py",
   "mimetype": "text/x-python",
   "name": "python",
   "nbconvert_exporter": "python",
   "pygments_lexer": "ipython3",
   "version": "3.6.0"
  }
 },
 "nbformat": 4,
 "nbformat_minor": 2
}
